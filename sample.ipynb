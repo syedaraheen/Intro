{
 "cells": [
  {
   "cell_type": "code",
   "execution_count": 2,
   "id": "d990020b",
   "metadata": {},
   "outputs": [
    {
     "name": "stderr",
     "output_type": "stream",
     "text": [
      "[nltk_data] Downloading package stopwords to /home/raheen/nltk_data...\n",
      "[nltk_data]   Package stopwords is already up-to-date!\n",
      "[nltk_data] Downloading package punkt to /home/raheen/nltk_data...\n",
      "[nltk_data]   Package punkt is already up-to-date!\n"
     ]
    },
    {
     "data": {
      "text/plain": [
       "True"
      ]
     },
     "execution_count": 2,
     "metadata": {},
     "output_type": "execute_result"
    }
   ],
   "source": [
    "import nltk\n",
    "nltk.download('stopwords')\n",
    "nltk.download('punkt')"
   ]
  },
  {
   "cell_type": "code",
   "execution_count": 3,
   "id": "ce277000",
   "metadata": {},
   "outputs": [],
   "source": [
    "import matplotlib.pyplot as plt\n",
    "\n",
    "import pandas as pd\n",
    "import re \n",
    "from nltk.corpus import stopwords\n",
    "from nltk.tokenize import word_tokenize\n",
    "from IPython.display import display"
   ]
  },
  {
   "cell_type": "code",
   "execution_count": 4,
   "id": "5780ab09",
   "metadata": {},
   "outputs": [
    {
     "name": "stdout",
     "output_type": "stream",
     "text": [
      "Collecting en-core-web-sm==3.8.0\n",
      "  Downloading https://github.com/explosion/spacy-models/releases/download/en_core_web_sm-3.8.0/en_core_web_sm-3.8.0-py3-none-any.whl (12.8 MB)\n",
      "\u001b[2K     \u001b[90m━━━━━━━━━━━━━━━━━━━━━━━━━━━━━━━━━━━━━━━━\u001b[0m \u001b[32m12.8/12.8 MB\u001b[0m \u001b[31m1.7 MB/s\u001b[0m eta \u001b[36m0:00:00\u001b[0m00:01\u001b[0m00:01\u001b[0m\n",
      "\u001b[?25hInstalling collected packages: en-core-web-sm\n",
      "Successfully installed en-core-web-sm-3.8.0\n",
      "\u001b[38;5;2m✔ Download and installation successful\u001b[0m\n",
      "You can now load the package via spacy.load('en_core_web_sm')\n",
      "\u001b[38;5;3m⚠ Restart to reload dependencies\u001b[0m\n",
      "If you are in a Jupyter or Colab notebook, you may need to restart Python in\n",
      "order to load all the package's dependencies. You can do this by selecting the\n",
      "'Restart kernel' or 'Restart runtime' option.\n"
     ]
    }
   ],
   "source": [
    "import spacy\n",
    "spacy.cli.download(\"en_core_web_sm\")\n",
    "nlp = spacy.load(\"en_core_web_sm\")"
   ]
  },
  {
   "cell_type": "code",
   "execution_count": 5,
   "id": "fedc7bd8",
   "metadata": {},
   "outputs": [
    {
     "name": "stdout",
     "output_type": "stream",
     "text": [
      "First Five Rows of the Dataset:\n"
     ]
    },
    {
     "data": {
      "text/html": [
       "<div>\n",
       "<style scoped>\n",
       "    .dataframe tbody tr th:only-of-type {\n",
       "        vertical-align: middle;\n",
       "    }\n",
       "\n",
       "    .dataframe tbody tr th {\n",
       "        vertical-align: top;\n",
       "    }\n",
       "\n",
       "    .dataframe thead th {\n",
       "        text-align: right;\n",
       "    }\n",
       "</style>\n",
       "<table border=\"1\" class=\"dataframe\">\n",
       "  <thead>\n",
       "    <tr style=\"text-align: right;\">\n",
       "      <th></th>\n",
       "      <th>review</th>\n",
       "      <th>sentiment</th>\n",
       "    </tr>\n",
       "  </thead>\n",
       "  <tbody>\n",
       "    <tr>\n",
       "      <th>0</th>\n",
       "      <td>One of the other reviewers has mentioned that after watching just 1 Oz episode you'll be hooked. They are right, as this is exactly what happened with me.&lt;br /&gt;&lt;br /&gt;The first thing that struck me about Oz was its brutality and unflinching scenes of violence, which set in right from the word GO. Trust me, this is not a show for the faint hearted or timid. This show pulls no punches with regards to drugs, sex or violence. Its is hardcore, in the classic use of the word.&lt;br /&gt;&lt;br /&gt;It is called OZ as that is the nickname given to the Oswald Maximum Security State Penitentary. It focuses mainly on Emerald City, an experimental section of the prison where all the cells have glass fronts and face inwards, so privacy is not high on the agenda. Em City is home to many..Aryans, Muslims, gangstas, Latinos, Christians, Italians, Irish and more....so scuffles, death stares, dodgy dealings and shady agreements are never far away.&lt;br /&gt;&lt;br /&gt;I would say the main appeal of the show is due to the fact that it goes where other shows wouldn't dare. Forget pretty pictures painted for mainstream audiences, forget charm, forget romance...OZ doesn't mess around. The first episode I ever saw struck me as so nasty it was surreal, I couldn't say I was ready for it, but as I watched more, I developed a taste for Oz, and got accustomed to the high levels of graphic violence. Not just violence, but injustice (crooked guards who'll be sold out for a nickel, inmates who'll kill on order and get away with it, well mannered, middle class inmates being turned into prison bitches due to their lack of street skills or prison experience) Watching Oz, you may become comfortable with what is uncomfortable viewing....thats if you can get in touch with your darker side.</td>\n",
       "      <td>positive</td>\n",
       "    </tr>\n",
       "    <tr>\n",
       "      <th>1</th>\n",
       "      <td>A wonderful little production. &lt;br /&gt;&lt;br /&gt;The filming technique is very unassuming- very old-time-BBC fashion and gives a comforting, and sometimes discomforting, sense of realism to the entire piece. &lt;br /&gt;&lt;br /&gt;The actors are extremely well chosen- Michael Sheen not only \"has got all the polari\" but he has all the voices down pat too! You can truly see the seamless editing guided by the references to Williams' diary entries, not only is it well worth the watching but it is a terrificly written and performed piece. A masterful production about one of the great master's of comedy and his life. &lt;br /&gt;&lt;br /&gt;The realism really comes home with the little things: the fantasy of the guard which, rather than use the traditional 'dream' techniques remains solid then disappears. It plays on our knowledge and our senses, particularly with the scenes concerning Orton and Halliwell and the sets (particularly of their flat with Halliwell's murals decorating every surface) are terribly well done.</td>\n",
       "      <td>positive</td>\n",
       "    </tr>\n",
       "    <tr>\n",
       "      <th>2</th>\n",
       "      <td>I thought this was a wonderful way to spend time on a too hot summer weekend, sitting in the air conditioned theater and watching a light-hearted comedy. The plot is simplistic, but the dialogue is witty and the characters are likable (even the well bread suspected serial killer). While some may be disappointed when they realize this is not Match Point 2: Risk Addiction, I thought it was proof that Woody Allen is still fully in control of the style many of us have grown to love.&lt;br /&gt;&lt;br /&gt;This was the most I'd laughed at one of Woody's comedies in years (dare I say a decade?). While I've never been impressed with Scarlet Johanson, in this she managed to tone down her \"sexy\" image and jumped right into a average, but spirited young woman.&lt;br /&gt;&lt;br /&gt;This may not be the crown jewel of his career, but it was wittier than \"Devil Wears Prada\" and more interesting than \"Superman\" a great comedy to go see with friends.</td>\n",
       "      <td>positive</td>\n",
       "    </tr>\n",
       "    <tr>\n",
       "      <th>3</th>\n",
       "      <td>Basically there's a family where a little boy (Jake) thinks there's a zombie in his closet &amp; his parents are fighting all the time.&lt;br /&gt;&lt;br /&gt;This movie is slower than a soap opera... and suddenly, Jake decides to become Rambo and kill the zombie.&lt;br /&gt;&lt;br /&gt;OK, first of all when you're going to make a film you must Decide if its a thriller or a drama! As a drama the movie is watchable. Parents are divorcing &amp; arguing like in real life. And then we have Jake with his closet which totally ruins all the film! I expected to see a BOOGEYMAN similar movie, and instead i watched a drama with some meaningless thriller spots.&lt;br /&gt;&lt;br /&gt;3 out of 10 just for the well playing parents &amp; descent dialogs. As for the shots with Jake: just ignore them.</td>\n",
       "      <td>negative</td>\n",
       "    </tr>\n",
       "    <tr>\n",
       "      <th>4</th>\n",
       "      <td>Petter Mattei's \"Love in the Time of Money\" is a visually stunning film to watch. Mr. Mattei offers us a vivid portrait about human relations. This is a movie that seems to be telling us what money, power and success do to people in the different situations we encounter. &lt;br /&gt;&lt;br /&gt;This being a variation on the Arthur Schnitzler's play about the same theme, the director transfers the action to the present time New York where all these different characters meet and connect. Each one is connected in one way, or another to the next person, but no one seems to know the previous point of contact. Stylishly, the film has a sophisticated luxurious look. We are taken to see how these people live and the world they live in their own habitat.&lt;br /&gt;&lt;br /&gt;The only thing one gets out of all these souls in the picture is the different stages of loneliness each one inhabits. A big city is not exactly the best place in which human relations find sincere fulfillment, as one discerns is the case with most of the people we encounter.&lt;br /&gt;&lt;br /&gt;The acting is good under Mr. Mattei's direction. Steve Buscemi, Rosario Dawson, Carol Kane, Michael Imperioli, Adrian Grenier, and the rest of the talented cast, make these characters come alive.&lt;br /&gt;&lt;br /&gt;We wish Mr. Mattei good luck and await anxiously for his next work.</td>\n",
       "      <td>positive</td>\n",
       "    </tr>\n",
       "  </tbody>\n",
       "</table>\n",
       "</div>"
      ],
      "text/plain": [
       "                                                                                                                                                                                                                                                                                                                                                                                                                                                                                                                                                                                                                                                                                                                                                                                                                                                                                                                                                                                                                                                                                                                                                                                                                                                                                                                                                                                                                                                                                                                                                                                                                                                                                                                                                                                                                              review  \\\n",
       "0  One of the other reviewers has mentioned that after watching just 1 Oz episode you'll be hooked. They are right, as this is exactly what happened with me.<br /><br />The first thing that struck me about Oz was its brutality and unflinching scenes of violence, which set in right from the word GO. Trust me, this is not a show for the faint hearted or timid. This show pulls no punches with regards to drugs, sex or violence. Its is hardcore, in the classic use of the word.<br /><br />It is called OZ as that is the nickname given to the Oswald Maximum Security State Penitentary. It focuses mainly on Emerald City, an experimental section of the prison where all the cells have glass fronts and face inwards, so privacy is not high on the agenda. Em City is home to many..Aryans, Muslims, gangstas, Latinos, Christians, Italians, Irish and more....so scuffles, death stares, dodgy dealings and shady agreements are never far away.<br /><br />I would say the main appeal of the show is due to the fact that it goes where other shows wouldn't dare. Forget pretty pictures painted for mainstream audiences, forget charm, forget romance...OZ doesn't mess around. The first episode I ever saw struck me as so nasty it was surreal, I couldn't say I was ready for it, but as I watched more, I developed a taste for Oz, and got accustomed to the high levels of graphic violence. Not just violence, but injustice (crooked guards who'll be sold out for a nickel, inmates who'll kill on order and get away with it, well mannered, middle class inmates being turned into prison bitches due to their lack of street skills or prison experience) Watching Oz, you may become comfortable with what is uncomfortable viewing....thats if you can get in touch with your darker side.   \n",
       "1                                                                                                                                                                                                                                                                                                                                                                                                                                                                                                                                                                                                                                                                                                                                                                                             A wonderful little production. <br /><br />The filming technique is very unassuming- very old-time-BBC fashion and gives a comforting, and sometimes discomforting, sense of realism to the entire piece. <br /><br />The actors are extremely well chosen- Michael Sheen not only \"has got all the polari\" but he has all the voices down pat too! You can truly see the seamless editing guided by the references to Williams' diary entries, not only is it well worth the watching but it is a terrificly written and performed piece. A masterful production about one of the great master's of comedy and his life. <br /><br />The realism really comes home with the little things: the fantasy of the guard which, rather than use the traditional 'dream' techniques remains solid then disappears. It plays on our knowledge and our senses, particularly with the scenes concerning Orton and Halliwell and the sets (particularly of their flat with Halliwell's murals decorating every surface) are terribly well done.   \n",
       "2                                                                                                                                                                                                                                                                                                                                                                                                                                                                                                                                                                                                                                                                                                                                                                                                                                                                     I thought this was a wonderful way to spend time on a too hot summer weekend, sitting in the air conditioned theater and watching a light-hearted comedy. The plot is simplistic, but the dialogue is witty and the characters are likable (even the well bread suspected serial killer). While some may be disappointed when they realize this is not Match Point 2: Risk Addiction, I thought it was proof that Woody Allen is still fully in control of the style many of us have grown to love.<br /><br />This was the most I'd laughed at one of Woody's comedies in years (dare I say a decade?). While I've never been impressed with Scarlet Johanson, in this she managed to tone down her \"sexy\" image and jumped right into a average, but spirited young woman.<br /><br />This may not be the crown jewel of his career, but it was wittier than \"Devil Wears Prada\" and more interesting than \"Superman\" a great comedy to go see with friends.   \n",
       "3                                                                                                                                                                                                                                                                                                                                                                                                                                                                                                                                                                                                                                                                                                                                                                                                                                                                                                                                                                                                                                                       Basically there's a family where a little boy (Jake) thinks there's a zombie in his closet & his parents are fighting all the time.<br /><br />This movie is slower than a soap opera... and suddenly, Jake decides to become Rambo and kill the zombie.<br /><br />OK, first of all when you're going to make a film you must Decide if its a thriller or a drama! As a drama the movie is watchable. Parents are divorcing & arguing like in real life. And then we have Jake with his closet which totally ruins all the film! I expected to see a BOOGEYMAN similar movie, and instead i watched a drama with some meaningless thriller spots.<br /><br />3 out of 10 just for the well playing parents & descent dialogs. As for the shots with Jake: just ignore them.   \n",
       "4                                                                                                                                                                                                                                                                                                                                                                                                                                                              Petter Mattei's \"Love in the Time of Money\" is a visually stunning film to watch. Mr. Mattei offers us a vivid portrait about human relations. This is a movie that seems to be telling us what money, power and success do to people in the different situations we encounter. <br /><br />This being a variation on the Arthur Schnitzler's play about the same theme, the director transfers the action to the present time New York where all these different characters meet and connect. Each one is connected in one way, or another to the next person, but no one seems to know the previous point of contact. Stylishly, the film has a sophisticated luxurious look. We are taken to see how these people live and the world they live in their own habitat.<br /><br />The only thing one gets out of all these souls in the picture is the different stages of loneliness each one inhabits. A big city is not exactly the best place in which human relations find sincere fulfillment, as one discerns is the case with most of the people we encounter.<br /><br />The acting is good under Mr. Mattei's direction. Steve Buscemi, Rosario Dawson, Carol Kane, Michael Imperioli, Adrian Grenier, and the rest of the talented cast, make these characters come alive.<br /><br />We wish Mr. Mattei good luck and await anxiously for his next work.   \n",
       "\n",
       "  sentiment  \n",
       "0  positive  \n",
       "1  positive  \n",
       "2  positive  \n",
       "3  negative  \n",
       "4  positive  "
      ]
     },
     "metadata": {},
     "output_type": "display_data"
    }
   ],
   "source": [
    "pd.set_option('display.max_colwidth', None)\n",
    "\n",
    "try:\n",
    "    df = pd.read_csv(\"dataset.csv\")\n",
    "except FileNotFoundError:\n",
    "    print(\"Error: Could not read the dataset.csv file\")\n",
    "\n",
    "print(\"First Five Rows of the Dataset:\")\n",
    "display(df.head())"
   ]
  },
  {
   "cell_type": "code",
   "execution_count": 6,
   "id": "093ccb46",
   "metadata": {},
   "outputs": [
    {
     "name": "stdout",
     "output_type": "stream",
     "text": [
      "\n",
      "Dataset information\n",
      "<class 'pandas.core.frame.DataFrame'>\n",
      "RangeIndex: 50000 entries, 0 to 49999\n",
      "Data columns (total 2 columns):\n",
      " #   Column     Non-Null Count  Dtype \n",
      "---  ------     --------------  ----- \n",
      " 0   review     50000 non-null  object\n",
      " 1   sentiment  50000 non-null  object\n",
      "dtypes: object(2)\n",
      "memory usage: 781.4+ KB\n",
      "Sentiment distribution\n",
      "sentiment\n",
      "positive    25000\n",
      "negative    25000\n",
      "Name: count, dtype: int64\n",
      "\n",
      "Sample stopwords:\n",
      "['if', 'y', 'my', \"they'd\", \"i've\", 'they', \"she's\", 'had', 'does', \"you're\"]\n"
     ]
    }
   ],
   "source": [
    "print(\"\\nDataset information\")\n",
    "df.info()\n",
    "\n",
    "print(\"Sentiment distribution\")\n",
    "print(df['sentiment'].value_counts())\n",
    "\n",
    "# Load stop words\n",
    "stop_words = set(stopwords.words('english'))\n",
    "print(\"\\nSample stopwords:\")\n",
    "print(list(stop_words)[:10])"
   ]
  },
  {
   "cell_type": "code",
   "execution_count": 7,
   "id": "b17cb932",
   "metadata": {},
   "outputs": [],
   "source": [
    "def preprocess_text(text):\n",
    "    text = re.sub(r'<.*?>', '', text)  # Remove HTML tags\n",
    "    text = text.lower()                # Lowercase the text\n",
    "    text = re.sub(r'[^a-z\\s]', '', text)  # Remove punctuation/numbers\n",
    "    tokens = word_tokenize(text)       # Tokenize\n",
    "    tokens = [word for word in tokens if word not in stop_words]  # Remove stopwords\n",
    "    text = ' '.join(tokens)            # Join back to string\n",
    "    doc = nlp(text)                    # spaCy processing\n",
    "    lemmatized_tokens = [token.lemma_ for token in doc]  # Lemmatize\n",
    "    return ' '.join(lemmatized_tokens)\n"
   ]
  },
  {
   "cell_type": "code",
   "execution_count": 8,
   "id": "e4709b4a",
   "metadata": {},
   "outputs": [
    {
     "name": "stdout",
     "output_type": "stream",
     "text": [
      "Preprocessing all 500 reviews....\n",
      "Preprocessing complete!\n",
      "\n",
      "Comparing Original vs Cleaned Reviews:\n"
     ]
    },
    {
     "data": {
      "text/html": [
       "<div>\n",
       "<style scoped>\n",
       "    .dataframe tbody tr th:only-of-type {\n",
       "        vertical-align: middle;\n",
       "    }\n",
       "\n",
       "    .dataframe tbody tr th {\n",
       "        vertical-align: top;\n",
       "    }\n",
       "\n",
       "    .dataframe thead th {\n",
       "        text-align: right;\n",
       "    }\n",
       "</style>\n",
       "<table border=\"1\" class=\"dataframe\">\n",
       "  <thead>\n",
       "    <tr style=\"text-align: right;\">\n",
       "      <th></th>\n",
       "      <th>review</th>\n",
       "      <th>cleaned_review</th>\n",
       "    </tr>\n",
       "  </thead>\n",
       "  <tbody>\n",
       "    <tr>\n",
       "      <th>18202</th>\n",
       "      <td>There are so many '10 Best' lists which could easily fit \"The Dead\" - Best Screen Drunk, Best Literary Adaptation, Best Use Of Music Not Specifically Written for the Film, Best Use of Poetry, Best Screen Speech, Best Ensemble Cast and finally, perhaps, Best Film Ever Made. This was John Huston's last and greatest film, adapted by his son Tony from James Joyce's short story and set on the evening of the Feast of the Epiphany in the Dublin of 1904. It is confined, largely, to one setting, the home of the Morkan sisters, and not a great deal happens in conventional 'dramatic' terms. They entertain their guests; there is singing, dancing, recitations and much small talk but watching this film you can't imagine anywhere else you would rather be than in this company.&lt;br /&gt;&lt;br /&gt;Finally, of course, it is 'about' much, much more. It is about love, loss and regret, those stable mainstays of great drama. In the film's closing scenes the tenor Bartell D'Arcy, (Frank Patterson), sings a song, 'The Lass of Aughrim' which conjures up in the mind of Gretta, (Anjelica Huston), wife of Gabriel, (Donal McCann), the ghost of her first and probably greatest love, a boy who died in all certainty of a broken heart at the age of seventeen, and suddenly Gabriel realises he has never really known his wife and that he has not been the great love of her life, after all. Emotionally, these scenes are incredibly powerful, firstly as Gretta recounts the circumstances of her lover's death and then as the voice in Gabriel's head sums up his own feelings. This is great cinema, the monologues superbly delivered by Huston and McCann.&lt;br /&gt;&lt;br /&gt;But then all the performances are extraordinary. This is ensemble playing of the highest order and while it would be invidious to single out one performer above another, has the screen ever given us a more likable, genial or convincing drunk than Donal Donnelly or has poetry ever been delivered with such passion that Sean McClory, (the IRA man in \"The Quiet Man\"), brings to his reading of Lady Gregory's translation of 'Donal Og' here? Added poignancy is to be had, of course, from the knowledge that Huston himself was close to death when he made this film which seems to me the culmination of his life's work. Death may well be its central theme but viewing this film is a life-enhancing experience.</td>\n",
       "      <td>many good list could easily fit dead good screen drunk good literary adaptation good use music specifically write film good use poetry good screen speech good ensemble cast finally perhaps good film ever make john huston last great film adapt son tony james joyces short story set evening feast epiphany dublin confine largely one set home morkan sister great deal happen conventional dramatic term entertain guest singe dancing recitation much small talk watch film can not imagine anywhere else would rather companyfinally course much much love loss regret stable mainstay great drama film closing scene tenor bartell darcy frank patterson sing song lass aughrim conjure mind gretta anjelica huston wife gabriel donal mccann ghost first probably great love boy die certainty break heart age seventeen suddenly gabriel realises never really know wife great love life emotionally scene incredibly powerful firstly gretta recount circumstance lover death voice gabriel head sum feeling great cinema monologue superbly deliver huston mccannbut performance extraordinary ensemble play high order would invidious single one performer another screen ever give we likable genial convincing drunk donal donnelly poetry ever deliver passion sean mcclory ira man quiet man bring read lady gregorys translation donal og add poignancy course knowledge huston close death make film seem culmination life work death may well central theme view film lifeenhancing experience</td>\n",
       "    </tr>\n",
       "    <tr>\n",
       "      <th>28555</th>\n",
       "      <td>Need I say--its a stinker! (I gave it a rating of 2)&lt;br /&gt;&lt;br /&gt;Only watch it if you suffer from insomnia.&lt;br /&gt;&lt;br /&gt;There's plenty of scenery chewing and hamming it up, but not much else happens in this movie. There is no suspense, no deep, shocking secrets revealed, no real threat to the heroine's well being. A few disagreements, slight raising of voices--that's pretty much it. The secrets are nothing that couldn't happen to anybody - the last \"secret\" revealed in the film is totally predictable by that point.&lt;br /&gt;&lt;br /&gt;The plot, such as it is, revolves around a young woman named Faith (Meg Tilly), who is an artist, who is hired to paint a series of mural panels in a huge ballroom in a vast mansion by a very, very wealthy, older widowed woman, and a growing mother/daughter type relationship that the older woman craves with her.&lt;br /&gt;&lt;br /&gt;It turns out the older woman's daughter, Cassandra, is dead. You can pretty well fit the rest of the pieces together.&lt;br /&gt;&lt;br /&gt;Even the scene with the mysterious man menacing our heroine does not advance to the point where you really fear for her safety beyond maybe a second or two. Why he's still hanging around years after Cassandra's death is a good question.&lt;br /&gt;&lt;br /&gt;There's also the question of the fact that in this vast mansion there is only one servant, a faithful butler who seems to do everything--cooking, cleaning, serving the meal, answering the door, etc. Everything except apparently locking the door--since that would be the only explanation for how one of the characters just walks into a room where Faith is.&lt;br /&gt;&lt;br /&gt;There's nothing that will have you grasping your chair arms, and leaning forward on the edge of your seat, because there IS no \"mounting\" tension in this film--just bland, pathetic revelations that get tossed out from time to time.&lt;br /&gt;&lt;br /&gt;</td>\n",
       "      <td>need sayit stinker give rating watch suffer insomniathere plenty scenery chew hamming much else happen movie suspense deep shocking secret reveal real threat heroine well disagreement slight raise voicesthat pretty much secret nothing could not happen anybody last secret reveal film totally predictable pointthe plot revolve around young woman name faith meg tilly artist hire paint series mural panel huge ballroom vast mansion wealthy old widow woman grow motherdaughter type relationship old woman crave herit turn old woman daughter cassandra dead pretty well fit rest piece togethereven scene mysterious man menace heroine advance point really fear safety beyond maybe second two he s still hang around year cassandra death good questionthere also question fact vast mansion one servant faithful butler seem everythingcooke clean serve meal answer door etc everything except apparently lock doorsince would explanation one character walk room faith isthere nothing grasp chair arm lean forward edge seat mount tension filmjust bland pathetic revelation get toss time time</td>\n",
       "    </tr>\n",
       "    <tr>\n",
       "      <th>49077</th>\n",
       "      <td>What do you expect when there is no script to begin with, and therefore nothing that the director can work with. Hayek and Farrell, and Donaldson and Kirkin are good actors, they just don't have anything to say or anything to react to. Even the earthquake was pretty poor. And I don't know how closely the movie follows the novel, but two have the Jewish girl show up out of nowhere just so show that Arturo has a nice, warm heart, but some stereotypes don't amount to anything. And he even buries Camilla out in the desert, instead of bringing her back to L.A. for a nice Catholic burial where he could at least bring her flowers once in a while. Pathetic. And the L.A. set was ridiculously graphically created. Anything good? The window to his apartment felt real, the curtains, the sounds, the wind. And Donaldson is always great. Has been since the Body Snatchers or Night of the Living Dead, whichever it was.</td>\n",
       "      <td>expect script begin therefore nothing director work hayek farrell donaldson kirkin good actor do not anything say anything react even earthquake pretty poor do not know closely movie follow novel two jewish girl show nowhere show arturo nice warm heart stereotype do not amount anything even bury camilla desert instead bring back la nice catholic burial could least bring flower pathetic la set ridiculously graphically create anything good window apartment feel real curtain sound wind donaldson always great since body snatcher night live dead whichever</td>\n",
       "    </tr>\n",
       "    <tr>\n",
       "      <th>22932</th>\n",
       "      <td>I saw this recently with my wife and discovered it's better than Caine believes, although it's not much cop. Britain's greatest ever screen actor does not seem too interested in this role, which is a pity as he might have elevated it with more conviction in his playing. Rex Harrison seems even less bothered, perhaps unsurprisingly, as his character is very poorly written. William Holden is better, but his screen time is fleeting and, again, his character is not well scripted.&lt;br /&gt;&lt;br /&gt;Beverly Johnson is as beautiful a woman as I have ever seen, but is given very little to do, the film might have gained a great deal by concentrating more on her story. Ustinov steals the show, but basically by playing a comic character quite out of keeping with the film's serious tone. The music is poor and Omar Sharif makes one of his many pointless cameos (his career has been based on this for decades now).&lt;br /&gt;&lt;br /&gt;Richard Fleischer has to be blamed for not directing this more effectively, he was an infuriatingly unpredictable film director, and this is one of his weaker movies.</td>\n",
       "      <td>see recently wife discover well caine believe although much cop britain great ever screen actor seem interested role pity might elevate conviction play rex harrison seem even less bothered perhaps unsurprisingly character poorly write william holden well screen time fleeting character well scriptedbeverly johnson beautiful woman ever see give little film might gain great deal concentrating story ustinov steal show basically play comic character quite keep film serious tone music poor omar sharif make one many pointless cameo career base decade nowrichard fleischer blame direct effectively infuriatingly unpredictable film director one weak movie</td>\n",
       "    </tr>\n",
       "    <tr>\n",
       "      <th>41385</th>\n",
       "      <td>This film ain't half bad. It may be a little long at times, but carried along by beautiful scenery, an IMMENSELY beautiful love letter and great actors, you forget time and enjoy. The grand prize, however, goes to Blythe Danner and Geraldine McEwan as..........well that would be telling, but they are just GREAT!</td>\n",
       "      <td>film be not half bad may little long time carry along beautiful scenery immensely beautiful love letter great actor forget time enjoy grand prize however go blythe danner geraldine mcewan aswell would tell great</td>\n",
       "    </tr>\n",
       "  </tbody>\n",
       "</table>\n",
       "</div>"
      ],
      "text/plain": [
       "                                                                                                                                                                                                                                                                                                                                                                                                                                                                                                                                                                                                                                                                                                                                                                                                                                                                                                                                                                                                                                                                                                                                                                                                                                                                                                                                                                                                                                                                                                                                                                                                                                                                                                                                                                                                                                                                                                                                                                                                                                                                                                                                                                                                                                                                                                                                                                                                                                       review  \\\n",
       "18202  There are so many '10 Best' lists which could easily fit \"The Dead\" - Best Screen Drunk, Best Literary Adaptation, Best Use Of Music Not Specifically Written for the Film, Best Use of Poetry, Best Screen Speech, Best Ensemble Cast and finally, perhaps, Best Film Ever Made. This was John Huston's last and greatest film, adapted by his son Tony from James Joyce's short story and set on the evening of the Feast of the Epiphany in the Dublin of 1904. It is confined, largely, to one setting, the home of the Morkan sisters, and not a great deal happens in conventional 'dramatic' terms. They entertain their guests; there is singing, dancing, recitations and much small talk but watching this film you can't imagine anywhere else you would rather be than in this company.<br /><br />Finally, of course, it is 'about' much, much more. It is about love, loss and regret, those stable mainstays of great drama. In the film's closing scenes the tenor Bartell D'Arcy, (Frank Patterson), sings a song, 'The Lass of Aughrim' which conjures up in the mind of Gretta, (Anjelica Huston), wife of Gabriel, (Donal McCann), the ghost of her first and probably greatest love, a boy who died in all certainty of a broken heart at the age of seventeen, and suddenly Gabriel realises he has never really known his wife and that he has not been the great love of her life, after all. Emotionally, these scenes are incredibly powerful, firstly as Gretta recounts the circumstances of her lover's death and then as the voice in Gabriel's head sums up his own feelings. This is great cinema, the monologues superbly delivered by Huston and McCann.<br /><br />But then all the performances are extraordinary. This is ensemble playing of the highest order and while it would be invidious to single out one performer above another, has the screen ever given us a more likable, genial or convincing drunk than Donal Donnelly or has poetry ever been delivered with such passion that Sean McClory, (the IRA man in \"The Quiet Man\"), brings to his reading of Lady Gregory's translation of 'Donal Og' here? Added poignancy is to be had, of course, from the knowledge that Huston himself was close to death when he made this film which seems to me the culmination of his life's work. Death may well be its central theme but viewing this film is a life-enhancing experience.   \n",
       "28555                                                                                                                                                                                                                                                                                                                                                                                                                                                                                                                      Need I say--its a stinker! (I gave it a rating of 2)<br /><br />Only watch it if you suffer from insomnia.<br /><br />There's plenty of scenery chewing and hamming it up, but not much else happens in this movie. There is no suspense, no deep, shocking secrets revealed, no real threat to the heroine's well being. A few disagreements, slight raising of voices--that's pretty much it. The secrets are nothing that couldn't happen to anybody - the last \"secret\" revealed in the film is totally predictable by that point.<br /><br />The plot, such as it is, revolves around a young woman named Faith (Meg Tilly), who is an artist, who is hired to paint a series of mural panels in a huge ballroom in a vast mansion by a very, very wealthy, older widowed woman, and a growing mother/daughter type relationship that the older woman craves with her.<br /><br />It turns out the older woman's daughter, Cassandra, is dead. You can pretty well fit the rest of the pieces together.<br /><br />Even the scene with the mysterious man menacing our heroine does not advance to the point where you really fear for her safety beyond maybe a second or two. Why he's still hanging around years after Cassandra's death is a good question.<br /><br />There's also the question of the fact that in this vast mansion there is only one servant, a faithful butler who seems to do everything--cooking, cleaning, serving the meal, answering the door, etc. Everything except apparently locking the door--since that would be the only explanation for how one of the characters just walks into a room where Faith is.<br /><br />There's nothing that will have you grasping your chair arms, and leaning forward on the edge of your seat, because there IS no \"mounting\" tension in this film--just bland, pathetic revelations that get tossed out from time to time.<br /><br />   \n",
       "49077                                                                                                                                                                                                                                                                                                                                                                                                                                                                                                                                                                                                                                                                                                                                                                                                                                                                                                                                                                                                                                                                                                                                                                                                                                                                                                                                                                                                                                                                                      What do you expect when there is no script to begin with, and therefore nothing that the director can work with. Hayek and Farrell, and Donaldson and Kirkin are good actors, they just don't have anything to say or anything to react to. Even the earthquake was pretty poor. And I don't know how closely the movie follows the novel, but two have the Jewish girl show up out of nowhere just so show that Arturo has a nice, warm heart, but some stereotypes don't amount to anything. And he even buries Camilla out in the desert, instead of bringing her back to L.A. for a nice Catholic burial where he could at least bring her flowers once in a while. Pathetic. And the L.A. set was ridiculously graphically created. Anything good? The window to his apartment felt real, the curtains, the sounds, the wind. And Donaldson is always great. Has been since the Body Snatchers or Night of the Living Dead, whichever it was.   \n",
       "22932                                                                                                                                                                                                                                                                                                                                                                                                                                                                                                                                                                                                                                                                                                                                                                                                                                                                                                                                                                                                                                                                                                                                                                                                                                                                                                             I saw this recently with my wife and discovered it's better than Caine believes, although it's not much cop. Britain's greatest ever screen actor does not seem too interested in this role, which is a pity as he might have elevated it with more conviction in his playing. Rex Harrison seems even less bothered, perhaps unsurprisingly, as his character is very poorly written. William Holden is better, but his screen time is fleeting and, again, his character is not well scripted.<br /><br />Beverly Johnson is as beautiful a woman as I have ever seen, but is given very little to do, the film might have gained a great deal by concentrating more on her story. Ustinov steals the show, but basically by playing a comic character quite out of keeping with the film's serious tone. The music is poor and Omar Sharif makes one of his many pointless cameos (his career has been based on this for decades now).<br /><br />Richard Fleischer has to be blamed for not directing this more effectively, he was an infuriatingly unpredictable film director, and this is one of his weaker movies.   \n",
       "41385                                                                                                                                                                                                                                                                                                                                                                                                                                                                                                                                                                                                                                                                                                                                                                                                                                                                                                                                                                                                                                                                                                                                                                                                                                                                                                                                                                                                                                                                                                                                                                                                                                                                                                                                                                                                                                                                                                                                                                                                                                                                                                               This film ain't half bad. It may be a little long at times, but carried along by beautiful scenery, an IMMENSELY beautiful love letter and great actors, you forget time and enjoy. The grand prize, however, goes to Blythe Danner and Geraldine McEwan as..........well that would be telling, but they are just GREAT!   \n",
       "\n",
       "                                                                                                                                                                                                                                                                                                                                                                                                                                                                                                                                                                                                                                                                                                                                                                                                                                                                                                                                                                                                                                                                                                                                                                                                                                                                                                                                                                                                                                                                                                             cleaned_review  \n",
       "18202  many good list could easily fit dead good screen drunk good literary adaptation good use music specifically write film good use poetry good screen speech good ensemble cast finally perhaps good film ever make john huston last great film adapt son tony james joyces short story set evening feast epiphany dublin confine largely one set home morkan sister great deal happen conventional dramatic term entertain guest singe dancing recitation much small talk watch film can not imagine anywhere else would rather companyfinally course much much love loss regret stable mainstay great drama film closing scene tenor bartell darcy frank patterson sing song lass aughrim conjure mind gretta anjelica huston wife gabriel donal mccann ghost first probably great love boy die certainty break heart age seventeen suddenly gabriel realises never really know wife great love life emotionally scene incredibly powerful firstly gretta recount circumstance lover death voice gabriel head sum feeling great cinema monologue superbly deliver huston mccannbut performance extraordinary ensemble play high order would invidious single one performer another screen ever give we likable genial convincing drunk donal donnelly poetry ever deliver passion sean mcclory ira man quiet man bring read lady gregorys translation donal og add poignancy course knowledge huston close death make film seem culmination life work death may well central theme view film lifeenhancing experience  \n",
       "28555                                                                                                                                                                                                                                                                                                                                                                                                 need sayit stinker give rating watch suffer insomniathere plenty scenery chew hamming much else happen movie suspense deep shocking secret reveal real threat heroine well disagreement slight raise voicesthat pretty much secret nothing could not happen anybody last secret reveal film totally predictable pointthe plot revolve around young woman name faith meg tilly artist hire paint series mural panel huge ballroom vast mansion wealthy old widow woman grow motherdaughter type relationship old woman crave herit turn old woman daughter cassandra dead pretty well fit rest piece togethereven scene mysterious man menace heroine advance point really fear safety beyond maybe second two he s still hang around year cassandra death good questionthere also question fact vast mansion one servant faithful butler seem everythingcooke clean serve meal answer door etc everything except apparently lock doorsince would explanation one character walk room faith isthere nothing grasp chair arm lean forward edge seat mount tension filmjust bland pathetic revelation get toss time time  \n",
       "49077                                                                                                                                                                                                                                                                                                                                                                                                                                                                                                                                                                                                                                                                                                                                                                                                                                                                                                                                          expect script begin therefore nothing director work hayek farrell donaldson kirkin good actor do not anything say anything react even earthquake pretty poor do not know closely movie follow novel two jewish girl show nowhere show arturo nice warm heart stereotype do not amount anything even bury camilla desert instead bring back la nice catholic burial could least bring flower pathetic la set ridiculously graphically create anything good window apartment feel real curtain sound wind donaldson always great since body snatcher night live dead whichever  \n",
       "22932                                                                                                                                                                                                                                                                                                                                                                                                                                                                                                                                                                                                                                                                                                                                                                                                                                          see recently wife discover well caine believe although much cop britain great ever screen actor seem interested role pity might elevate conviction play rex harrison seem even less bothered perhaps unsurprisingly character poorly write william holden well screen time fleeting character well scriptedbeverly johnson beautiful woman ever see give little film might gain great deal concentrating story ustinov steal show basically play comic character quite keep film serious tone music poor omar sharif make one many pointless cameo career base decade nowrichard fleischer blame direct effectively infuriatingly unpredictable film director one weak movie  \n",
       "41385                                                                                                                                                                                                                                                                                                                                                                                                                                                                                                                                                                                                                                                                                                                                                                                                                                                                                                                                                                                                                                                                                                                                                                                                                                                                                                   film be not half bad may little long time carry along beautiful scenery immensely beautiful love letter great actor forget time enjoy grand prize however go blythe danner geraldine mcewan aswell would tell great  "
      ]
     },
     "metadata": {},
     "output_type": "display_data"
    }
   ],
   "source": [
    "# Preprocess\n",
    "print(\"Preprocessing all 500 reviews....\")\n",
    "df = df.sample(500).copy()\n",
    "df['cleaned_review'] = df['review'].apply(preprocess_text)\n",
    "print(\"Preprocessing complete!\")\n",
    "print(\"\\nComparing Original vs Cleaned Reviews:\")\n",
    "display(df[['review', 'cleaned_review']].head())"
   ]
  },
  {
   "cell_type": "code",
   "execution_count": 9,
   "id": "39a66879",
   "metadata": {},
   "outputs": [
    {
     "name": "stdout",
     "output_type": "stream",
     "text": [
      "Training set size: 400\n",
      "Testing set size: 100\n"
     ]
    }
   ],
   "source": [
    "from sklearn.model_selection import train_test_split\n",
    "df['sentiment_numeric'] = df['sentiment'].map({'positive':1,'negative':0})\n",
    "X= df['cleaned_review']\n",
    "y=df['sentiment_numeric']\n",
    "X_train,X_test,y_train,y_test = train_test_split(X,y,test_size= 0.2,random_state=42,stratify=y)\n",
    "print(f\"Training set size: {len(X_train)}\")\n",
    "print(f\"Testing set size: {len(X_test)}\")"
   ]
  },
  {
   "cell_type": "code",
   "execution_count": 10,
   "id": "25e7178f",
   "metadata": {},
   "outputs": [
    {
     "name": "stdout",
     "output_type": "stream",
     "text": [
      "Shape of the training TF-IDF matrix: (400, 5000)\n",
      "Shape of the testing TF-IDF matrix: (100, 5000)\n"
     ]
    }
   ],
   "source": [
    "from sklearn.feature_extraction.text import TfidfVectorizer\n",
    "\n",
    "# Initialize the TF-IDF Vectorizer\n",
    "# max_features=5000 means we only use the 5000 most common words, which is efficient\n",
    "tfidf = TfidfVectorizer(max_features=5000)\n",
    "\n",
    "# Fit the vectorizer on the training data and transform it\n",
    "X_train_tfidf = tfidf.fit_transform(X_train)\n",
    "\n",
    "# ONLY transform the test data using the already-fitted vectorizer\n",
    "X_test_tfidf = tfidf.transform(X_test)\n",
    "\n",
    "print(f\"Shape of the training TF-IDF matrix: {X_train_tfidf.shape}\")\n",
    "print(f\"Shape of the testing TF-IDF matrix: {X_test_tfidf.shape}\")"
   ]
  },
  {
   "cell_type": "code",
   "execution_count": 11,
   "id": "61385351",
   "metadata": {},
   "outputs": [
    {
     "name": "stdout",
     "output_type": "stream",
     "text": [
      "Model training complete!\n",
      "Review: 'This movie was absolutely fantastic! The acting was superb and the plot was gripping.'\n",
      "Predicted Sentiment: Positive\n",
      "\n",
      "Review: 'I was so bored throughout the entire film. It was a complete waste of time and money.'\n",
      "Predicted Sentiment: Negative\n",
      "\n",
      "Review: 'The film was okay, not great but not terrible either. Some parts were good.'\n",
      "Predicted Sentiment: Positive\n",
      "\n"
     ]
    }
   ],
   "source": [
    "from sklearn.linear_model import LogisticRegression\n",
    "\n",
    "# Initialize and train the model\n",
    "# solver='liblinear' is a good choice for this type of problem\n",
    "model = LogisticRegression(solver='liblinear')\n",
    "model.fit(X_train_tfidf, y_train)\n",
    "\n",
    "print(\"Model training complete!\")\n",
    "def predict_sentiment(text):\n",
    "    \"\"\"\n",
    "    Takes a raw text string and predicts its sentiment using the trained model.\n",
    "    \"\"\"\n",
    "    # 1. Preprocess the text using the same function from Cell 2\n",
    "    cleaned_text = preprocess_text(text)\n",
    "    \n",
    "    # 2. Vectorize the text using the SAME fitted TF-IDF vectorizer from Cell 5\n",
    "    vectorized_text = tfidf.transform([cleaned_text])\n",
    "    \n",
    "    # 3. Predict using the trained model from Cell 6\n",
    "    prediction = model.predict(vectorized_text)\n",
    "    \n",
    "    # 4. Return the human-readable result\n",
    "    return 'Positive' if prediction[0] == 1 else 'Negative'\n",
    "\n",
    "# --- Test Cases ---\n",
    "review_1 = \"This movie was absolutely fantastic! The acting was superb and the plot was gripping.\"\n",
    "review_2 = \"I was so bored throughout the entire film. It was a complete waste of time and money.\"\n",
    "review_3 = \"The film was okay, not great but not terrible either. Some parts were good.\"\n",
    "print(f\"Review: '{review_1}'\\nPredicted Sentiment: {predict_sentiment(review_1)}\\n\")\n",
    "print(f\"Review: '{review_2}'\\nPredicted Sentiment: {predict_sentiment(review_2)}\\n\")\n",
    "print(f\"Review: '{review_3}'\\nPredicted Sentiment: {predict_sentiment(review_3)}\\n\")"
   ]
  },
  {
   "cell_type": "code",
   "execution_count": 12,
   "id": "3b3af15b",
   "metadata": {},
   "outputs": [
    {
     "name": "stdout",
     "output_type": "stream",
     "text": [
      "Model Accuracy: 0.7400\n",
      "\n",
      "Classification Report:\n",
      "              precision    recall  f1-score   support\n",
      "\n",
      "    Negative       0.71      0.85      0.77        52\n",
      "    Positive       0.79      0.62      0.70        48\n",
      "\n",
      "    accuracy                           0.74       100\n",
      "   macro avg       0.75      0.74      0.73       100\n",
      "weighted avg       0.75      0.74      0.74       100\n",
      "\n"
     ]
    },
    {
     "data": {
      "image/png": "[encoded data removed]",
      "text/plain": [
       "<Figure size 600x500 with 2 Axes>"
      ]
     },
     "metadata": {},
     "output_type": "display_data"
    }
   ],
   "source": [
    "from sklearn.metrics import accuracy_score, classification_report, confusion_matrix\n",
    "import matplotlib.pyplot as plt\n",
    "import seaborn as sns\n",
    "\n",
    "# Make predictions on the test set\n",
    "y_pred = model.predict(X_test_tfidf)\n",
    "\n",
    "# Calculate accuracy\n",
    "accuracy = accuracy_score(y_test, y_pred)\n",
    "print(f\"Model Accuracy: {accuracy:.4f}\")\n",
    "\n",
    "# Print the detailed classification report\n",
    "print(\"\\nClassification Report:\")\n",
    "print(classification_report(y_test, y_pred, target_names=['Negative', 'Positive']))\n",
    "\n",
    "# Plot the confusion matrix\n",
    "cm = confusion_matrix(y_test, y_pred)\n",
    "plt.figure(figsize=(6, 5))\n",
    "sns.heatmap(cm, annot=True, fmt='d', cmap='Blues', \n",
    "            xticklabels=['Negative', 'Positive'], \n",
    "            yticklabels=['Negative', 'Positive'])\n",
    "plt.xlabel('Predicted Label')\n",
    "plt.ylabel('True Label')\n",
    "plt.title('Confusion Matrix')\n",
    "plt.show()"
   ]
  }
 ],
 "metadata": {
  "kernelspec": {
   "display_name": "Python (venv)",
   "language": "python",
   "name": "venv"
  },
  "language_info": {
   "codemirror_mode": {
    "name": "ipython",
    "version": 3
   },
   "file_extension": ".py",
   "mimetype": "text/x-python",
   "name": "python",
   "nbconvert_exporter": "python",
   "pygments_lexer": "ipython3",
   "version": "3.11.13"
  }
 },
 "nbformat": 4,
 "nbformat_minor": 5
}
